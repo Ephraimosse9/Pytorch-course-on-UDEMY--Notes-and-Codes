{
  "nbformat": 4,
  "nbformat_minor": 0,
  "metadata": {
    "colab": {
      "provenance": [],
      "authorship_tag": "ABX9TyONWi99SDQYLac1NcFd0l03",
      "include_colab_link": true
    },
    "kernelspec": {
      "name": "python3",
      "display_name": "Python 3"
    },
    "language_info": {
      "name": "python"
    }
  },
  "cells": [
    {
      "cell_type": "markdown",
      "metadata": {
        "id": "view-in-github",
        "colab_type": "text"
      },
      "source": [
        "<a href=\"https://colab.research.google.com/github/Ephraimosse9/Pytorch-course-on-UDEMY--Notes-and-Codes/blob/main/Comparison_between_using_First_principle_and_Pytorch_for_Linear_regression.ipynb\" target=\"_parent\"><img src=\"https://colab.research.google.com/assets/colab-badge.svg\" alt=\"Open In Colab\"/></a>"
      ]
    },
    {
      "cell_type": "markdown",
      "source": [
        "#Linear Regression from First Principle"
      ],
      "metadata": {
        "id": "37g48Tmen_AJ"
      }
    },
    {
      "cell_type": "code",
      "execution_count": 1,
      "metadata": {
        "id": "Ac4JIdDi1Lgq"
      },
      "outputs": [],
      "source": [
        "import numpy as np\n",
        "import pandas as pd\n",
        "import matplotlib.pyplot as plt\n"
      ]
    },
    {
      "cell_type": "code",
      "source": [
        "\n",
        "\n",
        "X = [1,2,3,4,5,6]\n",
        "y = [4,6,8,10,12,14]\n",
        "\n",
        "train_split = int(0.8*len(X))\n",
        "X_train = X[:train_split]\n",
        "Y_train = y[:train_split]\n",
        "X_test = X[train_split:]\n",
        "Y_test = y[train_split:]\n",
        "\n",
        "X_test"
      ],
      "metadata": {
        "colab": {
          "base_uri": "https://localhost:8080/"
        },
        "id": "27l3f0EcQ4-5",
        "outputId": "2c6d1cfd-63c1-4003-bc3f-26648887f053"
      },
      "execution_count": 2,
      "outputs": [
        {
          "output_type": "execute_result",
          "data": {
            "text/plain": [
              "[5, 6]"
            ]
          },
          "metadata": {},
          "execution_count": 2
        }
      ]
    },
    {
      "cell_type": "code",
      "source": [
        "def plot_predictions(X_train=X_train,X_test=X_test, prediction=None):\n",
        "  plt.scatter(X_train,Y_train, c='r', label = \"Train Data\")\n",
        "  plt.scatter(X_test,Y_test, c='g', label = \"Test Data\")\n",
        "  if prediction is not None:\n",
        "    plt.scatter(X_test,prediction, c='b', label = \"Predicted Data\")\n",
        "\n",
        "  plt.legend()\n",
        "plot_predictions()"
      ],
      "metadata": {
        "colab": {
          "base_uri": "https://localhost:8080/",
          "height": 430
        },
        "id": "uw2pCUaudxix",
        "outputId": "7d8172e6-1d44-4888-d061-e5975c20f385"
      },
      "execution_count": 3,
      "outputs": [
        {
          "output_type": "display_data",
          "data": {
            "text/plain": [
              "<Figure size 640x480 with 1 Axes>"
            ],
            "image/png": "[encoded data removed]"
          },
          "metadata": {}
        }
      ]
    },
    {
      "cell_type": "code",
      "source": [
        "def train_model(X, y, lr, epochs):\n",
        "  X = np.array(X)\n",
        "  y = np.array(y)\n",
        "  n = len(y)\n",
        "  # m = (n*np.sum(X*y) - np.sum(X) * np.sum(y))/(n*np.sum(X**2) - np.sum(X)**2)\n",
        "  # c = (np.sum(y) - m*np.sum(X))/n\n",
        "  m=0,\n",
        "  c=0\n",
        "\n",
        "\n",
        "  print(f\"Initial Value of m is {m} | Initial Value of c is {c}\")\n",
        "  for epoch in range(epochs):\n",
        "    # print(f\"This is m: {m}, This is c: {c}\")\n",
        "    y_pred = m*X + c\n",
        "    error = y_pred - y\n",
        "    if epoch %10 == 0:\n",
        "      print(f\"Mean absolute error: {sum(abs(error))/n}\")\n",
        "    dl_dm = (np.sum(np.dot(X, np.sign(error))))/n\n",
        "    dl_dc = (np.sum(np.sign(error)))/n\n",
        "    m-= lr*(dl_dm)\n",
        "    c-= lr*(dl_dc)\n",
        "\n",
        "  return m, c\n"
      ],
      "metadata": {
        "id": "1G7BKN0QS07H"
      },
      "execution_count": 4,
      "outputs": []
    },
    {
      "cell_type": "code",
      "source": [
        "m, c = train_model(X=X_train, y=Y_train, lr=0.01, epochs=100)\n"
      ],
      "metadata": {
        "colab": {
          "base_uri": "https://localhost:8080/"
        },
        "collapsed": true,
        "id": "PKoljP3HX1Hr",
        "outputId": "5df5a442-e134-4c6c-ccd9-f5a9585d057d"
      },
      "execution_count": 5,
      "outputs": [
        {
          "output_type": "stream",
          "name": "stdout",
          "text": [
            "Initial Value of m is (0,) | Initial Value of c is 0\n",
            "Mean absolute error: 7.0\n",
            "Mean absolute error: 6.275\n",
            "Mean absolute error: 5.549999999999999\n",
            "Mean absolute error: 4.824999999999999\n",
            "Mean absolute error: 4.099999999999999\n",
            "Mean absolute error: 3.375000000000001\n",
            "Mean absolute error: 2.650000000000003\n",
            "Mean absolute error: 1.9250000000000054\n",
            "Mean absolute error: 1.200000000000007\n",
            "Mean absolute error: 0.47500000000000964\n"
          ]
        }
      ]
    },
    {
      "cell_type": "code",
      "source": [
        "m,c"
      ],
      "metadata": {
        "colab": {
          "base_uri": "https://localhost:8080/"
        },
        "id": "2DOe5RQA7qyU",
        "outputId": "0dd69145-0b0b-4735-e2ec-a2cdb24cb58a"
      },
      "execution_count": 6,
      "outputs": [
        {
          "output_type": "execute_result",
          "data": {
            "text/plain": [
              "(array([2.32]), np.float64(0.9550000000000006))"
            ]
          },
          "metadata": {},
          "execution_count": 6
        }
      ]
    },
    {
      "cell_type": "code",
      "source": [
        "y_eval = m*X_test + c\n",
        "y_eval"
      ],
      "metadata": {
        "colab": {
          "base_uri": "https://localhost:8080/"
        },
        "id": "RGfIw63C2uT8",
        "outputId": "6d96b775-0c51-482f-851f-3c9bcb7deb45"
      },
      "execution_count": 7,
      "outputs": [
        {
          "output_type": "execute_result",
          "data": {
            "text/plain": [
              "array([12.555, 14.875])"
            ]
          },
          "metadata": {},
          "execution_count": 7
        }
      ]
    },
    {
      "cell_type": "code",
      "source": [
        "Y_test"
      ],
      "metadata": {
        "colab": {
          "base_uri": "https://localhost:8080/"
        },
        "id": "MQgqv-BP3EBk",
        "outputId": "844d2045-1baa-41b3-adb2-f731f06078f2"
      },
      "execution_count": 8,
      "outputs": [
        {
          "output_type": "execute_result",
          "data": {
            "text/plain": [
              "[12, 14]"
            ]
          },
          "metadata": {},
          "execution_count": 8
        }
      ]
    },
    {
      "cell_type": "code",
      "source": [
        "plot_predictions(prediction=y_eval)"
      ],
      "metadata": {
        "colab": {
          "base_uri": "https://localhost:8080/",
          "height": 430
        },
        "id": "XteokpxZjYj6",
        "outputId": "18680438-7c5a-4957-aaa3-d34710c35d8b"
      },
      "execution_count": 9,
      "outputs": [
        {
          "output_type": "display_data",
          "data": {
            "text/plain": [
              "<Figure size 640x480 with 1 Axes>"
            ],
            "image/png": "[encoded data removed]"
          },
          "metadata": {}
        }
      ]
    },
    {
      "cell_type": "markdown",
      "source": [
        "#Using PyTorch"
      ],
      "metadata": {
        "id": "JFzr8rFFoGQT"
      }
    },
    {
      "cell_type": "code",
      "source": [
        "import torch\n",
        "from torch import nn"
      ],
      "metadata": {
        "id": "Z8nmWtiioQc3"
      },
      "execution_count": 10,
      "outputs": []
    },
    {
      "cell_type": "code",
      "source": [
        "class Linear(nn.Module):\n",
        "  def __init__(self):\n",
        "    super().__init__()\n",
        "    self.weight = nn.Linear(in_features=1, out_features=1)\n",
        "\n",
        "  def forward(self, x):\n",
        "    # Corrected: Apply the linear transformation to the input x\n",
        "    return self.weight(x)"
      ],
      "metadata": {
        "id": "IQEIOrag00rH"
      },
      "execution_count": 11,
      "outputs": []
    },
    {
      "cell_type": "code",
      "source": [
        "model = Linear()\n"
      ],
      "metadata": {
        "id": "GF6snPe5oLj-"
      },
      "execution_count": 12,
      "outputs": []
    },
    {
      "cell_type": "code",
      "source": [
        "X_train_tensor = torch.tensor(X_train).type(torch.float32).unsqueeze(dim=1)\n",
        "Y_train_tensor = torch.tensor(Y_train).type(torch.float32).unsqueeze(dim=1)\n",
        "\n",
        "X_train_tensor.shape"
      ],
      "metadata": {
        "colab": {
          "base_uri": "https://localhost:8080/"
        },
        "id": "8qvSPORvp1lv",
        "outputId": "ce1ebee4-6404-4fc8-aa7a-cd6adfd95913"
      },
      "execution_count": 13,
      "outputs": [
        {
          "output_type": "execute_result",
          "data": {
            "text/plain": [
              "torch.Size([4, 1])"
            ]
          },
          "metadata": {},
          "execution_count": 13
        }
      ]
    },
    {
      "cell_type": "code",
      "source": [
        "# Convert pandas Series to NumPy arrays, then to PyTorch tensors\n",
        "X_test_tensor = torch.tensor(X_test).type(torch.float32).unsqueeze(dim=1)\n",
        "Y_test_tensor = torch.tensor(Y_test).type(torch.float32).unsqueeze(dim=1)\n",
        "\n"
      ],
      "metadata": {
        "id": "KM_FAcG6qWCJ"
      },
      "execution_count": 14,
      "outputs": []
    },
    {
      "cell_type": "code",
      "source": [
        "loss_fn = nn.L1Loss()\n",
        "optimizer = torch.optim.SGD(params=model.parameters(), lr=0.01)"
      ],
      "metadata": {
        "id": "1ciOn6ZPoos_"
      },
      "execution_count": 15,
      "outputs": []
    },
    {
      "cell_type": "code",
      "source": [
        "epochs = 100\n",
        "for epoch in range(epochs):\n",
        "  model.train()\n",
        "  # print(f\"this is shape {X_train.shape}\")\n",
        "\n",
        "  y_pred = model(X_train_tensor)\n",
        "  # print(f\"this is shape {y_pred}\")\n",
        "  loss = loss_fn(y_pred, Y_train_tensor)\n",
        "  optimizer.zero_grad()\n",
        "  loss.backward()\n",
        "  optimizer.step()\n",
        "\n",
        "  model.eval()\n",
        "  with torch.inference_mode():\n",
        "    y_pred_test = model(X_test_tensor)\n",
        "    loss_test = loss_fn(y_pred_test, Y_test_tensor)\n",
        "\n",
        "  print(f\"Training Loss: {loss} | Testing Loss: {loss_test}\")"
      ],
      "metadata": {
        "colab": {
          "base_uri": "https://localhost:8080/"
        },
        "id": "KrUslf7WoidC",
        "outputId": "35d05971-db5d-4a19-ef0d-b08c90dbcbd4"
      },
      "execution_count": 16,
      "outputs": [
        {
          "output_type": "stream",
          "name": "stdout",
          "text": [
            "Training Loss: 6.177022933959961 | Testing Loss: 10.404488563537598\n",
            "Training Loss: 6.104522705078125 | Testing Loss: 10.256988525390625\n",
            "Training Loss: 6.0320234298706055 | Testing Loss: 10.109488487243652\n",
            "Training Loss: 5.9595232009887695 | Testing Loss: 9.96198844909668\n",
            "Training Loss: 5.887022972106934 | Testing Loss: 9.814489364624023\n",
            "Training Loss: 5.814523220062256 | Testing Loss: 9.66698932647705\n",
            "Training Loss: 5.742023468017578 | Testing Loss: 9.519489288330078\n",
            "Training Loss: 5.6695237159729 | Testing Loss: 9.371989250183105\n",
            "Training Loss: 5.597023963928223 | Testing Loss: 9.224489212036133\n",
            "Training Loss: 5.524523735046387 | Testing Loss: 9.076990127563477\n",
            "Training Loss: 5.452023983001709 | Testing Loss: 8.929490089416504\n",
            "Training Loss: 5.379523754119873 | Testing Loss: 8.781990051269531\n",
            "Training Loss: 5.307024002075195 | Testing Loss: 8.634490013122559\n",
            "Training Loss: 5.234523773193359 | Testing Loss: 8.486989974975586\n",
            "Training Loss: 5.162024021148682 | Testing Loss: 8.33949089050293\n",
            "Training Loss: 5.089524269104004 | Testing Loss: 8.19198989868164\n",
            "Training Loss: 5.017024040222168 | Testing Loss: 8.044490814208984\n",
            "Training Loss: 4.94452428817749 | Testing Loss: 7.896990776062012\n",
            "Training Loss: 4.8720245361328125 | Testing Loss: 7.749491214752197\n",
            "Training Loss: 4.799524307250977 | Testing Loss: 7.601991176605225\n",
            "Training Loss: 4.727024078369141 | Testing Loss: 7.454491138458252\n",
            "Training Loss: 4.654524326324463 | Testing Loss: 7.3069915771484375\n",
            "Training Loss: 4.582024574279785 | Testing Loss: 7.159492015838623\n",
            "Training Loss: 4.509524345397949 | Testing Loss: 7.011991500854492\n",
            "Training Loss: 4.43702507019043 | Testing Loss: 6.864491939544678\n",
            "Training Loss: 4.364524841308594 | Testing Loss: 6.716992378234863\n",
            "Training Loss: 4.292025089263916 | Testing Loss: 6.569492340087891\n",
            "Training Loss: 4.21952486038208 | Testing Loss: 6.421992301940918\n",
            "Training Loss: 4.147025108337402 | Testing Loss: 6.274492263793945\n",
            "Training Loss: 4.074524879455566 | Testing Loss: 6.126992702484131\n",
            "Training Loss: 4.002025127410889 | Testing Loss: 5.979492664337158\n",
            "Training Loss: 3.929525136947632 | Testing Loss: 5.831993103027344\n",
            "Training Loss: 3.857025384902954 | Testing Loss: 5.684493064880371\n",
            "Training Loss: 3.7845253944396973 | Testing Loss: 5.536993026733398\n",
            "Training Loss: 3.7120256423950195 | Testing Loss: 5.389493465423584\n",
            "Training Loss: 3.6395254135131836 | Testing Loss: 5.241993427276611\n",
            "Training Loss: 3.5670254230499268 | Testing Loss: 5.094493389129639\n",
            "Training Loss: 3.49452543258667 | Testing Loss: 4.946993827819824\n",
            "Training Loss: 3.422025680541992 | Testing Loss: 4.799493789672852\n",
            "Training Loss: 3.3495256900787354 | Testing Loss: 4.651994228363037\n",
            "Training Loss: 3.2770256996154785 | Testing Loss: 4.504493713378906\n",
            "Training Loss: 3.2045254707336426 | Testing Loss: 4.356994152069092\n",
            "Training Loss: 3.132025718688965 | Testing Loss: 4.209494590759277\n",
            "Training Loss: 3.059525728225708 | Testing Loss: 4.061994552612305\n",
            "Training Loss: 2.9870259761810303 | Testing Loss: 3.914494514465332\n",
            "Training Loss: 2.9145259857177734 | Testing Loss: 3.7669944763183594\n",
            "Training Loss: 2.8420262336730957 | Testing Loss: 3.619495391845703\n",
            "Training Loss: 2.7695260047912598 | Testing Loss: 3.4719953536987305\n",
            "Training Loss: 2.697026252746582 | Testing Loss: 3.3244948387145996\n",
            "Training Loss: 2.624526262283325 | Testing Loss: 3.176994800567627\n",
            "Training Loss: 2.5520262718200684 | Testing Loss: 3.0294952392578125\n",
            "Training Loss: 2.4795262813568115 | Testing Loss: 2.881995677947998\n",
            "Training Loss: 2.4070262908935547 | Testing Loss: 2.7344956398010254\n",
            "Training Loss: 2.334526538848877 | Testing Loss: 2.5869956016540527\n",
            "Training Loss: 2.262026309967041 | Testing Loss: 2.43949556350708\n",
            "Training Loss: 2.1895265579223633 | Testing Loss: 2.291996479034424\n",
            "Training Loss: 2.1170265674591064 | Testing Loss: 2.144495964050293\n",
            "Training Loss: 2.0445265769958496 | Testing Loss: 1.9969964027404785\n",
            "Training Loss: 1.9720265865325928 | Testing Loss: 1.8494954109191895\n",
            "Training Loss: 1.8995264768600464 | Testing Loss: 1.7019953727722168\n",
            "Training Loss: 1.8270263671875 | Testing Loss: 1.554494857788086\n",
            "Training Loss: 1.754526138305664 | Testing Loss: 1.406994342803955\n",
            "Training Loss: 1.682025671005249 | Testing Loss: 1.259493350982666\n",
            "Training Loss: 1.609525442123413 | Testing Loss: 1.1119933128356934\n",
            "Training Loss: 1.5370253324508667 | Testing Loss: 0.9644927978515625\n",
            "Training Loss: 1.4645252227783203 | Testing Loss: 0.8169922828674316\n",
            "Training Loss: 1.3920247554779053 | Testing Loss: 0.6694912910461426\n",
            "Training Loss: 1.3195245265960693 | Testing Loss: 0.5219912528991699\n",
            "Training Loss: 1.247024416923523 | Testing Loss: 0.37449073791503906\n",
            "Training Loss: 1.1745243072509766 | Testing Loss: 0.2269902229309082\n",
            "Training Loss: 1.1020238399505615 | Testing Loss: 0.1583390235900879\n",
            "Training Loss: 1.0295236110687256 | Testing Loss: 0.1708383560180664\n",
            "Training Loss: 0.9570232629776001 | Testing Loss: 0.21551132202148438\n",
            "Training Loss: 0.8845230937004089 | Testing Loss: 0.36301183700561523\n",
            "Training Loss: 0.8120229244232178 | Testing Loss: 0.5105128288269043\n",
            "Training Loss: 0.7395225167274475 | Testing Loss: 0.6580138206481934\n",
            "Training Loss: 0.6670223474502563 | Testing Loss: 0.8055133819580078\n",
            "Training Loss: 0.6472699046134949 | Testing Loss: 0.8380141258239746\n",
            "Training Loss: 0.642270028591156 | Testing Loss: 0.8705148696899414\n",
            "Training Loss: 0.6372699737548828 | Testing Loss: 0.9030156135559082\n",
            "Training Loss: 0.6322698593139648 | Testing Loss: 0.935516357421875\n",
            "Training Loss: 0.6272698044776917 | Testing Loss: 0.9680171012878418\n",
            "Training Loss: 0.6222699284553528 | Testing Loss: 1.0005178451538086\n",
            "Training Loss: 0.6172698736190796 | Testing Loss: 1.033017635345459\n",
            "Training Loss: 0.6122695207595825 | Testing Loss: 1.0655183792114258\n",
            "Training Loss: 0.6072694659233093 | Testing Loss: 1.0980191230773926\n",
            "Training Loss: 0.6022695899009705 | Testing Loss: 1.1305198669433594\n",
            "Training Loss: 0.5972695350646973 | Testing Loss: 1.1630206108093262\n",
            "Training Loss: 0.5922694206237793 | Testing Loss: 1.195521354675293\n",
            "Training Loss: 0.5872693657875061 | Testing Loss: 1.2280220985412598\n",
            "Training Loss: 0.5822694897651672 | Testing Loss: 1.2605228424072266\n",
            "Training Loss: 0.577269434928894 | Testing Loss: 1.293022632598877\n",
            "Training Loss: 0.572269082069397 | Testing Loss: 1.3255233764648438\n",
            "Training Loss: 0.5672690272331238 | Testing Loss: 1.3580241203308105\n",
            "Training Loss: 0.5622691512107849 | Testing Loss: 1.3905248641967773\n",
            "Training Loss: 0.5572690963745117 | Testing Loss: 1.4230256080627441\n",
            "Training Loss: 0.561680793762207 | Testing Loss: 1.368025779724121\n",
            "Training Loss: 0.5572689175605774 | Testing Loss: 1.400526523590088\n",
            "Training Loss: 0.5566810369491577 | Testing Loss: 1.3455262184143066\n",
            "Training Loss: 0.5572689175605774 | Testing Loss: 1.3780274391174316\n"
          ]
        }
      ]
    },
    {
      "cell_type": "code",
      "source": [
        "model.state_dict()"
      ],
      "metadata": {
        "colab": {
          "base_uri": "https://localhost:8080/"
        },
        "id": "AIPlMgR1-YXW",
        "outputId": "175cc925-5b77-4b7f-bd31-b73c9c7b518e"
      },
      "execution_count": 17,
      "outputs": [
        {
          "output_type": "execute_result",
          "data": {
            "text/plain": [
              "OrderedDict([('weight.weight', tensor([[2.5517]])),\n",
              "             ('weight.bias', tensor([0.3438]))])"
            ]
          },
          "metadata": {},
          "execution_count": 17
        }
      ]
    },
    {
      "cell_type": "code",
      "source": [
        "y_eval_pytorch = model(X_test_tensor)\n",
        "y_eval_pytorch"
      ],
      "metadata": {
        "colab": {
          "base_uri": "https://localhost:8080/"
        },
        "id": "ZLKzimRz0fy5",
        "outputId": "b2f0b440-211c-4849-b1a6-c4bbd06faca9"
      },
      "execution_count": 18,
      "outputs": [
        {
          "output_type": "execute_result",
          "data": {
            "text/plain": [
              "tensor([[13.1022],\n",
              "        [15.6539]], grad_fn=<AddmmBackward0>)"
            ]
          },
          "metadata": {},
          "execution_count": 18
        }
      ]
    },
    {
      "cell_type": "code",
      "source": [
        "a=y_eval_pytorch.detach().numpy()\n",
        "plot_predictions(prediction=a)"
      ],
      "metadata": {
        "colab": {
          "base_uri": "https://localhost:8080/",
          "height": 430
        },
        "id": "_pERZXC0-nYn",
        "outputId": "20bf61b0-bba0-4553-ee79-ffdb41de43bc"
      },
      "execution_count": 29,
      "outputs": [
        {
          "output_type": "display_data",
          "data": {
            "text/plain": [
              "<Figure size 640x480 with 1 Axes>"
            ],
            "image/png": "[encoded data removed]"
          },
          "metadata": {}
        }
      ]
    },
    {
      "cell_type": "code",
      "source": [
        "y_eval"
      ],
      "metadata": {
        "colab": {
          "base_uri": "https://localhost:8080/"
        },
        "id": "fUpaP6JvAMtg",
        "outputId": "0c9d7953-1439-45e0-95b4-8a436678c8aa"
      },
      "execution_count": 33,
      "outputs": [
        {
          "output_type": "execute_result",
          "data": {
            "text/plain": [
              "array([12.555, 14.875])"
            ]
          },
          "metadata": {},
          "execution_count": 33
        }
      ]
    },
    {
      "cell_type": "code",
      "source": [
        "a"
      ],
      "metadata": {
        "colab": {
          "base_uri": "https://localhost:8080/"
        },
        "id": "R6y7KZVW_jae",
        "outputId": "871b962f-23a7-4318-b1ca-41acbcf43ed3"
      },
      "execution_count": 35,
      "outputs": [
        {
          "output_type": "execute_result",
          "data": {
            "text/plain": [
              "array([[13.102187],\n",
              "       [15.653868]], dtype=float32)"
            ]
          },
          "metadata": {},
          "execution_count": 35
        }
      ]
    },
    {
      "cell_type": "code",
      "source": [
        "if a.all() > y_eval.all():\n",
        "  print(\"Pytorch beat First Principle!!!!!\")\n",
        "else:\n",
        "  print(\"First Principle beat Pytorch!!!!\")"
      ],
      "metadata": {
        "colab": {
          "base_uri": "https://localhost:8080/"
        },
        "id": "HqLEBwVcAUsy",
        "outputId": "71faddf7-5a77-4cbe-eb13-855948aad68e"
      },
      "execution_count": 40,
      "outputs": [
        {
          "output_type": "stream",
          "name": "stdout",
          "text": [
            "First Principle beat Pytorch!!!!\n"
          ]
        }
      ]
    }
  ]
}